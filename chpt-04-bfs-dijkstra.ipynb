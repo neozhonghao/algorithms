{
 "cells": [
  {
   "cell_type": "code",
   "execution_count": 1,
   "id": "7fe5988c-0532-42e4-bbe9-d74cf55c6f26",
   "metadata": {},
   "outputs": [],
   "source": [
    "from collections import deque\n",
    "\n",
    "def bfs(graph):\n",
    "    \"\"\"\n",
    "    bfs more used to undirected graphs since it cares about distance\n",
    "    \"\"\"\n",
    "    \n",
    "    visited = set()\n",
    "    \n",
    "    for node in graph:\n",
    "        if node not in visited:\n",
    "            explore_bfs(graph, node, visited)\n",
    "        \n",
    "def explore_bfs(graph, root, visited=None):\n",
    "    queue = deque([root])\n",
    "\n",
    "    if visited == None:\n",
    "        visited = set()\n",
    "        \n",
    "    while queue:\n",
    "        node = queue.popleft()\n",
    "        \n",
    "        # do something to node\n",
    "        print(node)\n",
    "        visited.add(node)\n",
    "        \n",
    "        neighbors = sorted(graph[node])\n",
    "        for neighbor in neighbors:\n",
    "            # bfs: check visited in neighbor loop\n",
    "            # dfs: check visited when visiting node\n",
    "            if neighbor not in visited:\n",
    "                queue.append(neighbor)\n",
    "                visited.add(neighbor)"
   ]
  },
  {
   "cell_type": "code",
   "execution_count": 2,
   "id": "dece964b-1d67-4a9c-940d-579b7eae744a",
   "metadata": {},
   "outputs": [
    {
     "name": "stdout",
     "output_type": "stream",
     "text": [
      "A\n",
      "B\n",
      "C\n",
      "D\n",
      "E\n",
      "F\n",
      "G\n",
      "H\n",
      "J\n",
      "K\n",
      "I\n",
      "L\n"
     ]
    }
   ],
   "source": [
    "graph = {'A': ['B'],\n",
    "         'B': ['C', 'D', 'E'],\n",
    "         'C': ['F'],\n",
    "         'D': [],\n",
    "         'E': ['B', 'F', 'G'],\n",
    "         'F': ['C', 'H'],\n",
    "         'G': ['H', 'J'],\n",
    "         'H': ['K'],\n",
    "         'I': ['G'],\n",
    "         'J': ['I'],\n",
    "         'K': ['L'],\n",
    "         'L': ['J']\n",
    "        }\n",
    "\n",
    "bfs(graph)"
   ]
  },
  {
   "cell_type": "code",
   "execution_count": 8,
   "id": "f751409a-9899-429a-86f4-3eac65cefcf5",
   "metadata": {},
   "outputs": [],
   "source": [
    "import heapq\n",
    "\n",
    "def dijkstra(graph, source):\n",
    "    \"\"\"\n",
    "    returns the shortest distance from source to all other nodes\n",
    "    only for non-negative distances\n",
    "    cycles allowed\n",
    "    \"\"\"\n",
    "\n",
    "    dist = {node: float('infinity') for node in graph}\n",
    "    dist[source] = 0\n",
    "    pqueue = [(0, source)]\n",
    "\n",
    "    # pqueue contains nodes waiting to be visited\n",
    "    # the current shortest distance is at the top\n",
    "    while pqueue:\n",
    "        curr_dist, curr_node = heapq.heappop(pqueue)\n",
    "\n",
    "        # Skip if the node is already processed\n",
    "        if curr_dist > dist[curr_node]:\n",
    "            continue\n",
    "            \n",
    "        for neighbor, weight in graph[curr_node].items():\n",
    "            distance = curr_dist + weight\n",
    "            if distance < dist[neighbor]:\n",
    "                dist[neighbor] = distance\n",
    "                heapq.heappush(pqueue, (distance, neighbor))\n",
    "\n",
    "    return dist"
   ]
  },
  {
   "cell_type": "code",
   "execution_count": 10,
   "id": "a7195c4f-a6d3-43c5-bcc9-c80ef818ea82",
   "metadata": {},
   "outputs": [
    {
     "name": "stdout",
     "output_type": "stream",
     "text": [
      "10 2\n"
     ]
    },
    {
     "data": {
      "text/plain": [
       "{'A': 0, 'B': 2, 'C': 1, 'D': 4, 'E': 5}"
      ]
     },
     "execution_count": 10,
     "metadata": {},
     "output_type": "execute_result"
    }
   ],
   "source": [
    "graph = {'A': {'B':10, 'C':1}, \n",
    "         'B': {'A':10, 'C':1, 'D':2}, \n",
    "         'C': {'A':1, 'B':1, 'E':4},\n",
    "         'D': {'B':2, 'E':2},\n",
    "         'E': {'B':3, 'C':4, 'D':2}\n",
    "        }\n",
    "dijkstra(graph, 'A')"
   ]
  }
 ],
 "metadata": {
  "kernelspec": {
   "display_name": "Python 3 (ipykernel)",
   "language": "python",
   "name": "python3"
  },
  "language_info": {
   "codemirror_mode": {
    "name": "ipython",
    "version": 3
   },
   "file_extension": ".py",
   "mimetype": "text/x-python",
   "name": "python",
   "nbconvert_exporter": "python",
   "pygments_lexer": "ipython3",
   "version": "3.10.5"
  }
 },
 "nbformat": 4,
 "nbformat_minor": 5
}
