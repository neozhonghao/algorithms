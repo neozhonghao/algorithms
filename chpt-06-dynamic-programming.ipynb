{
 "cells": [
  {
   "cell_type": "code",
   "execution_count": 1,
   "id": "973c70c2-e51e-4e74-9c64-3adf688fad36",
   "metadata": {},
   "outputs": [],
   "source": [
    "def longest_common_subsequence(X, Y):\n",
    "    m = len(X)\n",
    "    n = len(Y)\n",
    "\n",
    "    dp = [[0] * (n + 1) for _ in range(m + 1)]\n",
    "\n",
    "    for i in range(1, m + 1):\n",
    "        for j in range(1, n + 1):\n",
    "            if X[i - 1] == Y[j - 1]:\n",
    "                dp[i][j] = 1 + dp[i - 1][j - 1]\n",
    "            else:\n",
    "                dp[i][j] = max(dp[i - 1][j], dp[i][j - 1])\n",
    "\n",
    "    return dp[m][n]"
   ]
  },
  {
   "cell_type": "code",
   "execution_count": 2,
   "id": "0301b617-0c7f-4901-be5c-b72b57665af6",
   "metadata": {},
   "outputs": [
    {
     "name": "stdout",
     "output_type": "stream",
     "text": [
      "Length of Longest Common Subsequence: 3\n"
     ]
    }
   ],
   "source": [
    "# Example usage:\n",
    "X = \"abcde\"\n",
    "Y = \"ace\"\n",
    "result = longest_common_subsequence(X, Y)\n",
    "print(\"Length of Longest Common Subsequence:\", result)"
   ]
  },
  {
   "cell_type": "code",
   "execution_count": 3,
   "id": "fffb7360-2a7a-43f3-a801-84be7f39428f",
   "metadata": {},
   "outputs": [],
   "source": [
    "def floyd_warshall(graph):\n",
    "    \"\"\"\n",
    "    returns the shortest paths from all nodes to all other nodes\n",
    "    \"\"\"\n",
    "    V = len(graph)\n",
    "    dist = [[float('inf')] * V for _ in range(V)]\n",
    "\n",
    "    for i in range(V):\n",
    "        dist[i][i] = 0\n",
    "\n",
    "    for u in range(V):\n",
    "        for v, w in graph[u]:\n",
    "            dist[u][v] = w\n",
    "\n",
    "    for k in range(V):\n",
    "        for i in range(V):\n",
    "            for j in range(V):\n",
    "                if dist[i][k] + dist[k][j] < dist[i][j]:\n",
    "                    dist[i][j] = dist[i][k] + dist[k][j]\n",
    "\n",
    "    return dist"
   ]
  },
  {
   "cell_type": "code",
   "execution_count": 6,
   "id": "107ebd62-bc53-4660-8100-8d10fd11befa",
   "metadata": {},
   "outputs": [
    {
     "name": "stdout",
     "output_type": "stream",
     "text": [
      "[[0, -1, -3], [-1, -4, -6], [-3, -6, -8]]\n"
     ]
    }
   ],
   "source": [
    "graph = [\n",
    "    [(0, 0), (1, 3), (2, 6)],\n",
    "    [(0, 3), (2, -2)],\n",
    "    [(1, -2), (0, 6)]\n",
    "]\n",
    "\n",
    "result = floyd_warshall(graph)\n",
    "print(result)"
   ]
  },
  {
   "cell_type": "code",
   "execution_count": 7,
   "id": "9c0e204d-6e6b-43ab-a345-67d9899676f9",
   "metadata": {},
   "outputs": [],
   "source": [
    "def coinChange(coins, amount):\n",
    "    dp = [float('inf')] * (amount + 1)\n",
    "    dp[0] = 0\n",
    "\n",
    "    for coin in coins:\n",
    "        for i in range(coin, amount + 1):\n",
    "            dp[i] = min(dp[i], dp[i - coin] + 1)\n",
    "\n",
    "    return dp[amount] if dp[amount] != float('inf') else -1"
   ]
  },
  {
   "cell_type": "code",
   "execution_count": 8,
   "id": "7624ab78-3a96-4964-a20f-6ab3fc74beac",
   "metadata": {},
   "outputs": [
    {
     "data": {
      "text/plain": [
       "3"
      ]
     },
     "execution_count": 8,
     "metadata": {},
     "output_type": "execute_result"
    }
   ],
   "source": [
    "coins = [1,2,5]\n",
    "amount = 11\n",
    "coinChange(coins, amount)"
   ]
  }
 ],
 "metadata": {
  "kernelspec": {
   "display_name": "Python 3 (ipykernel)",
   "language": "python",
   "name": "python3"
  },
  "language_info": {
   "codemirror_mode": {
    "name": "ipython",
    "version": 3
   },
   "file_extension": ".py",
   "mimetype": "text/x-python",
   "name": "python",
   "nbconvert_exporter": "python",
   "pygments_lexer": "ipython3",
   "version": "3.10.5"
  }
 },
 "nbformat": 4,
 "nbformat_minor": 5
}
