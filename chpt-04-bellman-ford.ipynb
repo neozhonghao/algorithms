{
 "cells": [
  {
   "cell_type": "code",
   "execution_count": 14,
   "id": "cb17a642-375f-4238-87fa-1b6e3c54f45a",
   "metadata": {},
   "outputs": [],
   "source": [
    "def bellman_ford(graph, source):\n",
    "    # returns the shortest distance from source to all other nodes\n",
    "    # allows negative distances\n",
    "    # allowed cycles but not negative cycles\n",
    "    \n",
    "    dist = {v:float(\"Inf\") for v in graph}\n",
    "    dist[source] = 0\n",
    "\n",
    "    # Relax all edges |V| - 1 times\n",
    "    for _ in range(n-1):\n",
    "        for u in graph:\n",
    "            for v, length in graph[u].items():\n",
    "                if dist[u] != float(\"Inf\") and dist[u] + length < dist[v]:\n",
    "                    dist[v] = dist[u] + length\n",
    "\n",
    "    # Check for negative-weight cycles\n",
    "    for u in graph:\n",
    "        for v, length in graph[u].items():\n",
    "            if dist[u] != float(\"Inf\") and dist[u] + length < dist[v]:\n",
    "                print(\"Graph contains negative weight cycle\")\n",
    "                return\n",
    "    \n",
    "    return dist"
   ]
  },
  {
   "cell_type": "code",
   "execution_count": 15,
   "id": "5a5a9b70-9f0e-454d-8f3a-bb9367900d9d",
   "metadata": {},
   "outputs": [
    {
     "data": {
      "text/plain": [
       "{'S': 0, 'A': 5, 'B': 5, 'C': 6, 'D': 9, 'E': 7, 'F': 9, 'G': 8}"
      ]
     },
     "execution_count": 15,
     "metadata": {},
     "output_type": "execute_result"
    }
   ],
   "source": [
    "graph = {'S': {'A':10, 'G':8},\n",
    "         'A': {'E':2},\n",
    "         'B': {'A':1, 'C':1},\n",
    "         'C': {'D':3},\n",
    "         'D': {'E':-1},\n",
    "         'E': {'B':-2},\n",
    "         'F': {'A':-4, 'E': -1},\n",
    "         'G': {'F':1}\n",
    "        }\n",
    "bellman_ford(graph, 'S')"
   ]
  },
  {
   "cell_type": "code",
   "execution_count": null,
   "id": "2c50370c-cbfc-4f9d-9564-a239987016c9",
   "metadata": {},
   "outputs": [],
   "source": [
    "def dfs_clock(graph):\n",
    "    \n",
    "    visited = set()\n",
    "\n",
    "    clock = [0]\n",
    "    pre = {v: 0 for v in graph}\n",
    "    post = {v: 0 for v in graph}\n",
    "    \n",
    "    for node in graph:\n",
    "        if node not in visited:\n",
    "            explore_clock(graph, node, visited, pre, post, clock)\n",
    "    \n",
    "    return pre, post\n",
    "\n",
    "def explore_clock(graph, root, visited, pre, post, clock):\n",
    "    \n",
    "    if root in visited:\n",
    "        return\n",
    "    \n",
    "    # do something to root\n",
    "    print(root)\n",
    "    visited.add(root)\n",
    "    \n",
    "    previsit(pre, root, clock)\n",
    "\n",
    "    neighbors = sorted(graph[root])\n",
    "    for neighbor in neighbors:\n",
    "        explore_clock(graph, neighbor, visited, pre, post, clock)\n",
    "        \n",
    "    postvisit(post, root, clock)\n",
    "    \n",
    "def previsit(pre, root, clock):\n",
    "    pre[root] = clock[0]\n",
    "    clock[0] += 1\n",
    "    \n",
    "def postvisit(post, root, clock):\n",
    "    post[root] = clock[0]\n",
    "    clock[0] += 1"
   ]
  },
  {
   "cell_type": "code",
   "execution_count": 17,
   "id": "887be24d-1f9f-4ae0-9ffc-b6455a857320",
   "metadata": {},
   "outputs": [],
   "source": [
    "def shortest_dag(graph):\n",
    "    \n",
    "    dist = {v:float(\"Inf\") for v in graph}\n",
    "    dist[source] = 0\n",
    "\n",
    "    pre, post = dfs_clock(graph)\n",
    "    top_sorted = sorted(post, key=post.get, reverse=True)\n",
    "    \n",
    "    # Check for negative-weight cycles\n",
    "    for u in top_sorted:\n",
    "        for v, length in graph[u].items():\n",
    "            if dist[u] != float(\"Inf\") and dist[u] + length < dist[v]:\n",
    "                print(\"Graph contains negative weight cycle\")\n",
    "                return\n",
    "    \n",
    "    return dist"
   ]
  }
 ],
 "metadata": {
  "kernelspec": {
   "display_name": "Python 3 (ipykernel)",
   "language": "python",
   "name": "python3"
  },
  "language_info": {
   "codemirror_mode": {
    "name": "ipython",
    "version": 3
   },
   "file_extension": ".py",
   "mimetype": "text/x-python",
   "name": "python",
   "nbconvert_exporter": "python",
   "pygments_lexer": "ipython3",
   "version": "3.10.5"
  }
 },
 "nbformat": 4,
 "nbformat_minor": 5
}
