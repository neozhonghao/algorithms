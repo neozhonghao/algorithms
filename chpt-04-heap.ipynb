{
 "cells": [
  {
   "cell_type": "code",
   "execution_count": 5,
   "id": "e0266099-c9cb-47e5-bc8d-e8de095de7db",
   "metadata": {},
   "outputs": [],
   "source": [
    "class MinHeap:\n",
    "    def __init__(self):\n",
    "        self.heap = []\n",
    "        \n",
    "    def size(self):\n",
    "        return len(self.heap)\n",
    "\n",
    "    def is_empty(self):\n",
    "        return len(self.heap) == 0\n",
    "        \n",
    "    def get_min(self):\n",
    "        return self.heap[0] if self.heap else None\n",
    "\n",
    "    def insert(self, value):\n",
    "        self.heap.append(value)\n",
    "        self._heapify_up()\n",
    "\n",
    "    def pop(self):\n",
    "        if len(self.heap) == 0:\n",
    "            return None\n",
    "        if len(self.heap) == 1:\n",
    "            return self.heap.pop()\n",
    "\n",
    "        pop_val = self.heap[0]\n",
    "        self.heap[0] = self.heap.pop()\n",
    "        self._heapify_down()\n",
    "        return pop_val\n",
    "\n",
    "    def heapify(self, arr):\n",
    "        # Convert an unsorted array into a max-heap in-place\n",
    "        self.heap = arr\n",
    "        n = len(arr)\n",
    "        # Start from the last non-leaf node and work up to the root\n",
    "        for i in range(n // 2 - 1, -1, -1):\n",
    "            self._heapify_down(i)\n",
    "\n",
    "    def _heapify_down(self, index=0):\n",
    "        n = len(self.heap)\n",
    "        while True:\n",
    "            left_child_index = 2 * index + 1\n",
    "            right_child_index = 2 * index + 2\n",
    "            smallest = index\n",
    "\n",
    "            if left_child_index < n and self.heap[left_child_index] < self.heap[smallest]:\n",
    "                smallest = left_child_index\n",
    "\n",
    "            if right_child_index < n and self.heap[right_child_index] < self.heap[smallest]:\n",
    "                smallest = right_child_index\n",
    "\n",
    "            if smallest == index:\n",
    "                break\n",
    "\n",
    "            self.heap[index], self.heap[smallest] = self.heap[smallest], self.heap[index]\n",
    "            index = smallest\n",
    "            \n",
    "    def _heapify_up(self):\n",
    "        index = len(self.heap) - 1\n",
    "        while index > 0:\n",
    "            parent_index = (index - 1) // 2\n",
    "            if self.heap[index] >= self.heap[parent_index]:\n",
    "                break\n",
    "            self.heap[index], self.heap[parent_index] = self.heap[parent_index], self.heap[index]\n",
    "            index = parent_index\n",
    "\n",
    "    \n",
    "    def heapsort(self):\n",
    "        n = len(self.heap)\n",
    "        for i in range(n - 1, 0, -1):\n",
    "            # Swap the maximum element (at the root) with the last element\n",
    "            self.heap[0], self.heap[i] = self.heap[i], self.heap[0]\n",
    "            # Reduce the heap size to exclude the sorted element\n",
    "            n -= 1\n",
    "            # Heapify the remaining elements to restore the max-heap property\n",
    "            self._heapify_down(0, n)"
   ]
  },
  {
   "cell_type": "code",
   "execution_count": 8,
   "id": "5357eb9e-3641-446e-80f8-1ab255db5ce2",
   "metadata": {},
   "outputs": [
    {
     "name": "stdout",
     "output_type": "stream",
     "text": [
      "[1, 4, 3, 5, 10]\n",
      "[3, 4, 10, 5]\n",
      "-4\n"
     ]
    }
   ],
   "source": [
    "min_heap = MinHeap()\n",
    "\n",
    "unsorted_array = [4, 10, 3, 5, 1]\n",
    "min_heap.heapify(unsorted_array)\n",
    "print(min_heap.heap)  # Output: [1, 4, 3, 5, 10]\n",
    "\n",
    "min_val = min_heap.pop()\n",
    "print(min_heap.heap)\n",
    "\n",
    "min_heap.insert(-4)\n",
    "print(min_heap.get_min())  # Output: -4"
   ]
  }
 ],
 "metadata": {
  "kernelspec": {
   "display_name": "Python 3 (ipykernel)",
   "language": "python",
   "name": "python3"
  },
  "language_info": {
   "codemirror_mode": {
    "name": "ipython",
    "version": 3
   },
   "file_extension": ".py",
   "mimetype": "text/x-python",
   "name": "python",
   "nbconvert_exporter": "python",
   "pygments_lexer": "ipython3",
   "version": "3.10.5"
  }
 },
 "nbformat": 4,
 "nbformat_minor": 5
}
