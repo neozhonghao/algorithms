{
 "cells": [
  {
   "cell_type": "markdown",
   "id": "de4cccaf-4e08-4afa-a4ad-08f78a0dd82f",
   "metadata": {},
   "source": [
    "## Assumed to be directed graphs unless stated otherwise"
   ]
  },
  {
   "cell_type": "code",
   "execution_count": 1,
   "id": "1f40295e-b9d0-435d-ae3c-c3ae1c4101ba",
   "metadata": {},
   "outputs": [],
   "source": [
    "def adjacency_matrix_to_list(adj_matrix):\n",
    "    adj_list = {}\n",
    "    num_nodes = len(adj_matrix)\n",
    "\n",
    "    for i in range(num_nodes):\n",
    "        adj_list[i] = []\n",
    "        for j in range(num_nodes):\n",
    "            if adj_matrix[i][j] != 0:\n",
    "                adj_list[i].append(j)\n",
    "\n",
    "    return adj_list"
   ]
  },
  {
   "cell_type": "code",
   "execution_count": 2,
   "id": "3123da91-e62a-4302-9da3-335d6e7cc2c4",
   "metadata": {},
   "outputs": [],
   "source": [
    "from collections import deque\n",
    "\n",
    "def dfs(graph):\n",
    "    visited = set()\n",
    "\n",
    "    for node in graph:\n",
    "        if node not in visited:\n",
    "            explore_recursion(graph, node, visited)            \n",
    "\n",
    "def explore_recursion(graph, root, visited=None):\n",
    "    \"\"\"\n",
    "    not to be used directly since root node may not reach all other node\n",
    "    in directed graphs, only source nodes can reach all other nodes \n",
    "    if used directly: only applicable to fully connected and undirected graphs.\n",
    "    \"\"\"\n",
    "    \n",
    "    if visited == None:\n",
    "        visited = set()\n",
    "        \n",
    "    if root in visited:\n",
    "        return\n",
    "    \n",
    "    # do something to root\n",
    "    print(root)\n",
    "    visited.add(root)\n",
    "    \n",
    "    neighbors = sorted(graph[root])\n",
    "    for neighbor in neighbors:\n",
    "        explore_recursion(graph, neighbor, visited)\n",
    "        \n",
    "def explore_iterative(graph, root, visited=None):\n",
    "    dq = deque()\n",
    "    \n",
    "    if visited == None:\n",
    "        visited = set()\n",
    "        \n",
    "    dq.append(root)\n",
    "    while dq:\n",
    "        node = dq.pop()\n",
    "        \n",
    "        if node not in visited:\n",
    "            \n",
    "            # do something to node\n",
    "            print(node)\n",
    "            visited.add(node)\n",
    "            \n",
    "            neighbors = reversed(sorted(graph[node]))\n",
    "            dq.extend(neighbors)"
   ]
  },
  {
   "cell_type": "code",
   "execution_count": 3,
   "id": "eef0493e-5993-43d6-b270-5259a3a43dc6",
   "metadata": {},
   "outputs": [],
   "source": [
    "def dfs_clock(graph):\n",
    "    \n",
    "    visited = set()\n",
    "\n",
    "    clock = [0]\n",
    "    pre = {v: 0 for v in graph}\n",
    "    post = {v: 0 for v in graph}\n",
    "    \n",
    "    for node in graph:\n",
    "        if node not in visited:\n",
    "            explore_clock(graph, node, visited, pre, post, clock)\n",
    "    \n",
    "    return pre, post\n",
    "\n",
    "def explore_clock(graph, root, visited, pre, post, clock):\n",
    "    \n",
    "    if root in visited:\n",
    "        return\n",
    "    \n",
    "    # do something to root\n",
    "    print(root)\n",
    "    visited.add(root)\n",
    "    \n",
    "    previsit(pre, root, clock)\n",
    "\n",
    "    neighbors = sorted(graph[root])\n",
    "    for neighbor in neighbors:\n",
    "        explore_clock(graph, neighbor, visited, pre, post, clock)\n",
    "        \n",
    "    postvisit(post, root, clock)\n",
    "    \n",
    "def previsit(pre, root, clock):\n",
    "    pre[root] = clock[0]\n",
    "    clock[0] += 1\n",
    "    \n",
    "def postvisit(post, root, clock):\n",
    "    post[root] = clock[0]\n",
    "    clock[0] += 1"
   ]
  },
  {
   "cell_type": "code",
   "execution_count": 4,
   "id": "f85590a8-b884-424b-a9b9-f46a830808e8",
   "metadata": {},
   "outputs": [],
   "source": [
    "def find_backedge(graph):\n",
    "    pre, post = dfs_clock(graph)\n",
    "    backedge = []\n",
    "    # must use post numbers: pre numbers depend on starting vertex\n",
    "    for node, neighbors in graph.items():\n",
    "        for neighbor in neighbors:\n",
    "            if pre[neighbor] < pre[node] and post[node] < post[neighbor]:\n",
    "                backedge.append((node, neighbor))\n",
    "    return pre, post, backedge"
   ]
  },
  {
   "cell_type": "code",
   "execution_count": 5,
   "id": "f6600fd2-df77-4584-8c72-5065aabe7df9",
   "metadata": {},
   "outputs": [],
   "source": [
    "def reverse_graph(graph):\n",
    "    r_graph = {v: [] for v in graph}\n",
    "    for node in graph:\n",
    "        for neighbor in graph[node]:\n",
    "            r_graph[neighbor].append(node)\n",
    "    return r_graph\n",
    "\n",
    "def find_scc(graph):\n",
    "    visited = set()\n",
    "    cc = {}\n",
    "    cc_count = 0\n",
    "    \n",
    "    r_graph = reverse_graph(graph)\n",
    "    pre, post = dfs_clock(r_graph)\n",
    "    \n",
    "    # source has the highest post number in g\n",
    "    # therefore, sink has the highest post number in rev-g\n",
    "    top_sorted = sorted(post, key=post.get, reverse=True)\n",
    "    \n",
    "    # remove sink scc one by one\n",
    "    for node in top_sorted:\n",
    "        if node not in visited:\n",
    "            clock = [0]\n",
    "            pre_cc = {}\n",
    "            post_cc = {}\n",
    "            \n",
    "            explore_clock(graph, node, visited, pre_cc, post_cc, clock)\n",
    "            cc[str(cc_count)] = {i for i in post_cc}\n",
    "            cc_count += 1\n",
    "\n",
    "    return cc"
   ]
  },
  {
   "cell_type": "code",
   "execution_count": 8,
   "id": "f78f3ea1-9fe5-4e9f-8ebb-b50b07042594",
   "metadata": {},
   "outputs": [
    {
     "name": "stdout",
     "output_type": "stream",
     "text": [
      "A\n",
      "B\n",
      "C\n",
      "F\n",
      "H\n",
      "K\n",
      "L\n",
      "J\n",
      "I\n",
      "G\n",
      "D\n",
      "E\n"
     ]
    }
   ],
   "source": [
    "graph = {'A': ['B'],\n",
    "         'B': ['C', 'D', 'E'],\n",
    "         'C': ['F'],\n",
    "         'D': [],\n",
    "         'E': ['B', 'F', 'G'],\n",
    "         'F': ['C', 'H'],\n",
    "         'G': ['H', 'J'],\n",
    "         'H': ['K'],\n",
    "         'I': ['G'],\n",
    "         'J': ['I'],\n",
    "         'K': ['L'],\n",
    "         'L': ['J']\n",
    "        }\n",
    "\n",
    "dfs(graph)"
   ]
  },
  {
   "cell_type": "code",
   "execution_count": 9,
   "id": "9669861d-f853-485d-9fc9-c7195f91a41c",
   "metadata": {},
   "outputs": [
    {
     "name": "stdout",
     "output_type": "stream",
     "text": [
      "A\n",
      "B\n",
      "C\n",
      "F\n",
      "H\n",
      "K\n",
      "L\n",
      "J\n",
      "I\n",
      "G\n",
      "D\n",
      "E\n"
     ]
    },
    {
     "data": {
      "text/plain": [
       "({'A': 0,\n",
       "  'B': 1,\n",
       "  'C': 2,\n",
       "  'D': 18,\n",
       "  'E': 20,\n",
       "  'F': 3,\n",
       "  'G': 9,\n",
       "  'H': 4,\n",
       "  'I': 8,\n",
       "  'J': 7,\n",
       "  'K': 5,\n",
       "  'L': 6},\n",
       " {'A': 23,\n",
       "  'B': 22,\n",
       "  'C': 17,\n",
       "  'D': 19,\n",
       "  'E': 21,\n",
       "  'F': 16,\n",
       "  'G': 10,\n",
       "  'H': 15,\n",
       "  'I': 11,\n",
       "  'J': 12,\n",
       "  'K': 14,\n",
       "  'L': 13},\n",
       " [('E', 'B'), ('F', 'C'), ('G', 'H'), ('G', 'J')])"
      ]
     },
     "execution_count": 9,
     "metadata": {},
     "output_type": "execute_result"
    }
   ],
   "source": [
    "find_backedge(graph)"
   ]
  },
  {
   "cell_type": "code",
   "execution_count": 10,
   "id": "567fd4b8-f15a-496b-a23a-438a93a4cad7",
   "metadata": {},
   "outputs": [
    {
     "name": "stdout",
     "output_type": "stream",
     "text": [
      "A\n",
      "B\n",
      "E\n",
      "C\n",
      "F\n",
      "D\n",
      "G\n",
      "I\n",
      "J\n",
      "L\n",
      "K\n",
      "H\n",
      "G\n",
      "H\n",
      "K\n",
      "L\n",
      "J\n",
      "I\n",
      "D\n",
      "C\n",
      "F\n",
      "B\n",
      "E\n",
      "A\n"
     ]
    },
    {
     "data": {
      "text/plain": [
       "{'0': {'G', 'H', 'I', 'J', 'K', 'L'},\n",
       " '1': {'D'},\n",
       " '2': {'C', 'F'},\n",
       " '3': {'B', 'E'},\n",
       " '4': {'A'}}"
      ]
     },
     "execution_count": 10,
     "metadata": {},
     "output_type": "execute_result"
    }
   ],
   "source": [
    "find_scc(graph)"
   ]
  }
 ],
 "metadata": {
  "kernelspec": {
   "display_name": "Python 3 (ipykernel)",
   "language": "python",
   "name": "python3"
  },
  "language_info": {
   "codemirror_mode": {
    "name": "ipython",
    "version": 3
   },
   "file_extension": ".py",
   "mimetype": "text/x-python",
   "name": "python",
   "nbconvert_exporter": "python",
   "pygments_lexer": "ipython3",
   "version": "3.10.5"
  }
 },
 "nbformat": 4,
 "nbformat_minor": 5
}
