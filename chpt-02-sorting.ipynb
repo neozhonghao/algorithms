{
 "cells": [
  {
   "cell_type": "code",
   "execution_count": 1,
   "id": "70603bd5-3ae8-4d88-b3da-d68ea98b920f",
   "metadata": {},
   "outputs": [],
   "source": [
    "def mergesort(a):\n",
    "    n = len(a)\n",
    "    n2 = n//2\n",
    "    \n",
    "    if n == 1:\n",
    "        return a\n",
    "    \n",
    "    b1 = mergesort(a[:n2])\n",
    "    b2 = mergesort(a[n2:])\n",
    "    \n",
    "    i,j = 0,0\n",
    "    b = []\n",
    "    while i<len(b1) and j<len(b2):\n",
    "        if b1[i]<=b2[j]:\n",
    "            b.append(b1[i])\n",
    "            i+=1\n",
    "        else:\n",
    "            b.append(b2[j])\n",
    "            j+=1\n",
    "    \n",
    "    if i==len(b1):\n",
    "        b.extend(b2[j:])\n",
    "    else:\n",
    "        b.extend(b1[i:])\n",
    "\n",
    "    return b"
   ]
  },
  {
   "cell_type": "code",
   "execution_count": 2,
   "id": "d8c39f88-f7fd-422f-9ea7-50f4ee11dead",
   "metadata": {},
   "outputs": [
    {
     "name": "stdout",
     "output_type": "stream",
     "text": [
      "[1, 2, 4, 5, 5, 8, 11, 13, 20, 21, 36]\n"
     ]
    }
   ],
   "source": [
    "a = [2,36,5,21,8,13,11,20,5,4,1]\n",
    "a = mergesort(a)\n",
    "print(a)"
   ]
  },
  {
   "cell_type": "code",
   "execution_count": 3,
   "id": "0dab04ce-a7a0-4d85-8681-9a049ca0efbd",
   "metadata": {},
   "outputs": [],
   "source": [
    "def quicksort(arr, left, right):\n",
    "    # difference from mergesort: does in-place sorting\n",
    "    # left, right are indexes\n",
    "    if left < right:\n",
    "        pivot = partition(arr, left, right)\n",
    "        quicksort(arr, left, pivot-1)\n",
    "        quicksort(arr, pivot+1, right)\n",
    "\n",
    "def partition(arr, left, right):\n",
    "    pivot = arr[right]\n",
    "    i = left-1\n",
    "    for j in range(left,right):\n",
    "        if arr[j] <= pivot:\n",
    "            i += 1\n",
    "            arr[i], arr[j] = arr[j], arr[i]\n",
    "    arr[right], arr[i+1] = arr[i+1], arr[right]\n",
    "    return i+1"
   ]
  },
  {
   "cell_type": "code",
   "execution_count": 4,
   "id": "0c29d97b-d6fb-45f5-a741-fd2837c45003",
   "metadata": {},
   "outputs": [
    {
     "name": "stdout",
     "output_type": "stream",
     "text": [
      "[1, 2, 4, 5, 5, 8, 11, 13, 20, 21, 36]\n"
     ]
    }
   ],
   "source": [
    "a = [2,36,5,21,8,13,11,20,5,4,1]\n",
    "quicksort(a, 0, len(a)-1)\n",
    "print(a)"
   ]
  },
  {
   "cell_type": "code",
   "execution_count": 5,
   "id": "299a3aad-7586-4aaa-b0e8-c509e76a14da",
   "metadata": {},
   "outputs": [],
   "source": [
    "def quickselect(arr, left, right, k):\n",
    "    # reuses partitioning idea from quicksort\n",
    "    if left <= right:\n",
    "        pivot = partition(arr, left, right)\n",
    "        if k == pivot:\n",
    "            return arr[k]\n",
    "        elif k < pivot:\n",
    "            return quickselect(arr, left, pivot-1, k)\n",
    "        else:\n",
    "            return quickselect(arr, pivot+1, right, k)"
   ]
  },
  {
   "cell_type": "code",
   "execution_count": 7,
   "id": "9f06ee86-c48e-4899-b9b1-738f1e5fe644",
   "metadata": {},
   "outputs": [
    {
     "name": "stdout",
     "output_type": "stream",
     "text": [
      "k smallest: 11\n"
     ]
    }
   ],
   "source": [
    "a = [2,36,5,21,8,13,11,20,5,4,1,36]\n",
    "k_val = quickselect(a,0,len(a)-1,6)\n",
    "print('k smallest: {}'.format(k_val))"
   ]
  }
 ],
 "metadata": {
  "kernelspec": {
   "display_name": "Python 3 (ipykernel)",
   "language": "python",
   "name": "python3"
  },
  "language_info": {
   "codemirror_mode": {
    "name": "ipython",
    "version": 3
   },
   "file_extension": ".py",
   "mimetype": "text/x-python",
   "name": "python",
   "nbconvert_exporter": "python",
   "pygments_lexer": "ipython3",
   "version": "3.10.5"
  }
 },
 "nbformat": 4,
 "nbformat_minor": 5
}
