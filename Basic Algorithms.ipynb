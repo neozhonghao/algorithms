{
 "cells": [
  {
   "cell_type": "code",
   "execution_count": 1,
   "id": "1ecb7350-aefc-458a-a78e-cee05478bf61",
   "metadata": {},
   "outputs": [],
   "source": [
    "def addition(a,b):\n",
    "    \"\"\"\n",
    "    For a,b is positive only\n",
    "    \"\"\" \n",
    "    while b:\n",
    "        add = a^b\n",
    "        carry = (a&b)<<1\n",
    "        a, b = add, carry\n",
    "    return a"
   ]
  },
  {
   "cell_type": "code",
   "execution_count": 2,
   "id": "0500be2a-c831-4fa1-967a-4d7fa86185e7",
   "metadata": {},
   "outputs": [
    {
     "data": {
      "text/plain": [
       "35"
      ]
     },
     "execution_count": 2,
     "metadata": {},
     "output_type": "execute_result"
    }
   ],
   "source": [
    "addition(5,30)"
   ]
  },
  {
   "cell_type": "code",
   "execution_count": 3,
   "id": "df74407d-c415-4e58-b101-5aced9dd801a",
   "metadata": {},
   "outputs": [],
   "source": [
    "def multiply1(a,b):\n",
    "    \"\"\"\n",
    "    For b is positive only\n",
    "    \"\"\"    \n",
    "    if not b^0: # {b^0: =1 if b!0, =0 if b=0}\n",
    "        return 0\n",
    "    prod = multiply1(a,b>>1)\n",
    "    if a&1:\n",
    "        return addition(a,prod<<1)\n",
    "    else:\n",
    "        return prod<<1"
   ]
  },
  {
   "cell_type": "code",
   "execution_count": 4,
   "id": "c9898367-432b-422e-9703-d2c7c305b9a8",
   "metadata": {},
   "outputs": [
    {
     "data": {
      "text/plain": [
       "75"
      ]
     },
     "execution_count": 4,
     "metadata": {},
     "output_type": "execute_result"
    }
   ],
   "source": [
    "multiply1(5,15)"
   ]
  },
  {
   "cell_type": "code",
   "execution_count": 5,
   "id": "dcd92718-c494-44c0-84d9-2e1758efc9b4",
   "metadata": {},
   "outputs": [],
   "source": [
    "def division(a,b):\n",
    "    \"\"\"\n",
    "    for b > 1\n",
    "    returns quotient and remainder\n",
    "    \"\"\"\n",
    "    if not a!=0:\n",
    "        return (0, 0)\n",
    "    (q, r) = division(a>>1, b)\n",
    "    q, r = q<<1, r<<1\n",
    "    if a&1: r += 1\n",
    "    while r>b:\n",
    "        r, q = r-b, q+1\n",
    "    return (q,r)"
   ]
  },
  {
   "cell_type": "code",
   "execution_count": 6,
   "id": "3840100a-7609-4213-bf43-ea2f30b01b19",
   "metadata": {},
   "outputs": [
    {
     "data": {
      "text/plain": [
       "(13, 2)"
      ]
     },
     "execution_count": 6,
     "metadata": {},
     "output_type": "execute_result"
    }
   ],
   "source": [
    "division(80,6)"
   ]
  },
  {
   "cell_type": "code",
   "execution_count": 7,
   "id": "7b86e08c-a9a4-493b-bd58-439c6921aef7",
   "metadata": {},
   "outputs": [],
   "source": [
    "def modexp1(x,y,n):\n",
    "    if y==0: return 1\n",
    "    z = modexp(x,y>>1,n)\n",
    "    if not z&1:\n",
    "        return (z**2)%n\n",
    "    else:\n",
    "        return (x*z**2)%n"
   ]
  },
  {
   "cell_type": "code",
   "execution_count": 8,
   "id": "9bc15687-1103-47c6-9292-df101171cca4",
   "metadata": {},
   "outputs": [],
   "source": [
    "def modexp2(x,y,n):\n",
    "    m = 1\n",
    "    x = x%n\n",
    "    \n",
    "    while y>0:\n",
    "        if y%2==1:\n",
    "            m = (m*x)%n\n",
    "        x = (x*x)%n\n",
    "        y = y >> 1\n",
    "    return m"
   ]
  },
  {
   "cell_type": "code",
   "execution_count": 9,
   "id": "a212cdaa-9121-47e0-9b70-dc42114017a2",
   "metadata": {},
   "outputs": [],
   "source": [
    "def exteuclid(a,b):\n",
    "    \"\"\"\n",
    "    a >= b >= 0\n",
    "    return x,y,d where d = gcd(a,b) and ax+by=d\n",
    "    \"\"\"\n",
    "    if b == 0:\n",
    "        return (1,0,a)\n",
    "    x,y,d = exteuclid(b,a%b)\n",
    "    return y, x-(a//b)*y, d"
   ]
  },
  {
   "cell_type": "code",
   "execution_count": 10,
   "id": "630c61b2-3dd1-4e88-b111-bcf59dce1491",
   "metadata": {},
   "outputs": [],
   "source": [
    "import random\n",
    "\n",
    "random.seed(a=0)\n",
    "\n",
    "def isprime(n):\n",
    "    \"\"\"\n",
    "    n > 1e5\n",
    "    \"\"\"\n",
    "    if not n%2:\n",
    "        return 0\n",
    "    k = 100\n",
    "    for a in range(k):\n",
    "        a = random.randint(0,n)\n",
    "        m = modexp2(a,n-1,n)\n",
    "        if m != 1:\n",
    "            # print('n={} not prime: {}^(n-1) = {}'.format(n,a,m))\n",
    "            return 0\n",
    "    return 1"
   ]
  },
  {
   "cell_type": "code",
   "execution_count": 11,
   "id": "05d7e379-a62c-4dd0-b7df-23524b8a19fa",
   "metadata": {},
   "outputs": [],
   "source": [
    "def genprime(n):\n",
    "    prime = random.randint(0,n)\n",
    "    count = 1\n",
    "    while not isprime(prime):\n",
    "        prime = random.randint(0,n)\n",
    "        count += 1\n",
    "    # print('num tries to get prime: {}'.format(count))\n",
    "    return prime"
   ]
  },
  {
   "cell_type": "code",
   "execution_count": 12,
   "id": "bdf884b9-3861-42f1-b6ce-d1dbc04c83bf",
   "metadata": {},
   "outputs": [],
   "source": [
    "def rsa_genkey(maxkey=1e11):\n",
    "    e = 3\n",
    "    gcd = 0\n",
    "    \n",
    "    while gcd!=1:\n",
    "        p = genprime(maxkey)\n",
    "        q = genprime(maxkey)\n",
    "        _,d,gcd = exteuclid((p-1)*(q-1),e)\n",
    "        \n",
    "    if d<0: d = d % ((p-1)*(q-1))\n",
    "    n = p*q\n",
    "    return p,q,n,e,d"
   ]
  },
  {
   "cell_type": "code",
   "execution_count": 13,
   "id": "630a8d9a-6efe-4f97-b8a4-ac4d5ddb6d4f",
   "metadata": {},
   "outputs": [],
   "source": [
    "def rsa_encrypt(x,e,n):\n",
    "    y = modexp2(x,e,n)\n",
    "    return y"
   ]
  },
  {
   "cell_type": "code",
   "execution_count": 14,
   "id": "1cbc9da3-0c12-4d5c-b712-1c46b1d9cf18",
   "metadata": {},
   "outputs": [],
   "source": [
    "def rsa_decrypt(y,d,n):\n",
    "    x = modexp2(y,d,n)\n",
    "    return x"
   ]
  },
  {
   "cell_type": "code",
   "execution_count": 15,
   "id": "d6efccdc-469d-4d74-b903-726b7e63f629",
   "metadata": {},
   "outputs": [
    {
     "name": "stdout",
     "output_type": "stream",
     "text": [
      "public_key (n,e): (1746966932961435812142436592383821379778892582220415094653782569297044666968965807000087097007589583,3)\n",
      "private_key d: 1164644621974290541428291061589214253185928388146887456078835222925379114973214578254022126250349947\n",
      "encrytion: 1881676371789154860897069\n",
      "original: 123456789, decrypt: 123456789\n"
     ]
    }
   ],
   "source": [
    "p,q,n,e,d = rsa_genkey(1e50)\n",
    "print('public_key (n,e): ({},{})'.format(n,e))\n",
    "print('private_key d: {}'.format(d))\n",
    "\n",
    "x1 = 123456789\n",
    "y = rsa_encrypt(x1,e,n)\n",
    "print('encrytion: {}'.format(y))\n",
    "\n",
    "x2 = rsa_decrypt(y,d,n)\n",
    "print('original: {}, decrypt: {}'.format(x1, x2))"
   ]
  },
  {
   "cell_type": "code",
   "execution_count": null,
   "id": "199dd245-20bb-4165-9fc9-b642569c558d",
   "metadata": {},
   "outputs": [],
   "source": []
  }
 ],
 "metadata": {
  "kernelspec": {
   "display_name": "Python 3 (ipykernel)",
   "language": "python",
   "name": "python3"
  },
  "language_info": {
   "codemirror_mode": {
    "name": "ipython",
    "version": 3
   },
   "file_extension": ".py",
   "mimetype": "text/x-python",
   "name": "python",
   "nbconvert_exporter": "python",
   "pygments_lexer": "ipython3",
   "version": "3.10.5"
  }
 },
 "nbformat": 4,
 "nbformat_minor": 5
}
