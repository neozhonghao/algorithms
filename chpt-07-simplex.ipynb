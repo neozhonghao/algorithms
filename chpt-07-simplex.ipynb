{
 "cells": [
  {
   "cell_type": "code",
   "execution_count": 1,
   "id": "c95e91a3-4749-47fd-8b2e-3cd436ea26a5",
   "metadata": {},
   "outputs": [],
   "source": [
    "import numpy as np\n",
    "\n",
    "def simplex(c, A, b):\n",
    "    \"\"\"\n",
    "    Solves the linear programming problem: maximize c^T x subject to Ax <= b, x >= 0\n",
    "    using the Simplex algorithm.\n",
    "\n",
    "    Args:\n",
    "    - c: Coefficients of the objective function\n",
    "    - A: Coefficient matrix of the constraints\n",
    "    - b: Right-hand side vector of the constraints\n",
    "\n",
    "    Returns:\n",
    "    - The optimal solution x, the optimal value of the objective function, and the final tableau\n",
    "    \"\"\"\n",
    "    m, n = A.shape\n",
    "\n",
    "    # Add slack variables to convert inequalities to equalities\n",
    "    A = np.hstack([A, np.eye(m)])\n",
    "    c = np.concatenate([c, np.zeros(m)])\n",
    "\n",
    "    # Initial tableau\n",
    "    tableau = np.zeros((m+1, n+m+1))\n",
    "    tableau[:m, :n+m] = A\n",
    "    tableau[:m, -1] = b\n",
    "    tableau[-1, :n+m] = -c\n",
    "\n",
    "    while True:\n",
    "        # Identify pivot column (most negative element in the bottom row)\n",
    "        pivot_col = np.argmin(tableau[-1, :-1])\n",
    "        if tableau[-1, pivot_col] >= 0:\n",
    "            break  # optimal solution found\n",
    "\n",
    "        # Identify pivot row\n",
    "        ratios = tableau[:-1, -1] / tableau[:-1, pivot_col]\n",
    "        positive_ratios = np.where(ratios > 0, ratios, np.inf)\n",
    "        pivot_row = np.argmin(positive_ratios)\n",
    "\n",
    "        if positive_ratios[pivot_row] == np.inf:\n",
    "            raise ValueError(\"Linear program is unbounded.\")\n",
    "\n",
    "        # Pivot\n",
    "        pivot_element = tableau[pivot_row, pivot_col]\n",
    "        tableau[pivot_row, :] /= pivot_element\n",
    "        for i in range(m+1):\n",
    "            if i != pivot_row:\n",
    "                tableau[i, :] -= tableau[i, pivot_col] * tableau[pivot_row, :]\n",
    "\n",
    "    # Extract solution\n",
    "    solution = np.zeros(n)\n",
    "    for i in range(n):\n",
    "        col = tableau[:, i]\n",
    "        if np.count_nonzero(col[:-1]) == 1 and np.all(col[:-1] >= 0):\n",
    "            row = np.argmax(col[:-1])\n",
    "            solution[i] = tableau[row, -1]\n",
    "\n",
    "    optimal_value = -tablebau[-1, -1]\n",
    "    return solution, optimal_value, tableau"
   ]
  },
  {
   "cell_type": "code",
   "execution_count": 2,
   "id": "47b0e236-89c8-4218-b087-8e768bea10b6",
   "metadata": {},
   "outputs": [
    {
     "name": "stdout",
     "output_type": "stream",
     "text": [
      "Optimal solution: [4. 2.]\n",
      "Optimal value: -16.0\n"
     ]
    },
    {
     "name": "stderr",
     "output_type": "stream",
     "text": [
      "/tmp/ipykernel_9134/3613151765.py:35: RuntimeWarning: divide by zero encountered in true_divide\n",
      "  ratios = tableau[:-1, -1] / tableau[:-1, pivot_col]\n"
     ]
    }
   ],
   "source": [
    "# Example usage\n",
    "c = np.array([3, 2])\n",
    "A = np.array([[1, 2], [4, 0], [0, 4]])\n",
    "b = np.array([8, 16, 12])\n",
    "\n",
    "solution, optimal_value, final_tableau = simplex(c, A, b)\n",
    "print(\"Optimal solution:\", solution)\n",
    "print(\"Optimal value:\", optimal_value)"
   ]
  }
 ],
 "metadata": {
  "kernelspec": {
   "display_name": "Python 3 (ipykernel)",
   "language": "python",
   "name": "python3"
  },
  "language_info": {
   "codemirror_mode": {
    "name": "ipython",
    "version": 3
   },
   "file_extension": ".py",
   "mimetype": "text/x-python",
   "name": "python",
   "nbconvert_exporter": "python",
   "pygments_lexer": "ipython3",
   "version": "3.10.5"
  }
 },
 "nbformat": 4,
 "nbformat_minor": 5
}
