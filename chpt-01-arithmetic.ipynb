{
 "cells": [
  {
   "cell_type": "code",
   "execution_count": 1,
   "id": "1ecb7350-aefc-458a-a78e-cee05478bf61",
   "metadata": {},
   "outputs": [],
   "source": [
    "def addition(a,b):\n",
    "    \"\"\"\n",
    "    For a,b is positive only\n",
    "    \"\"\" \n",
    "    while b:\n",
    "        add = a^b\n",
    "        carry = (a&b)<<1\n",
    "        a, b = add, carry\n",
    "    return a"
   ]
  },
  {
   "cell_type": "code",
   "execution_count": 2,
   "id": "0500be2a-c831-4fa1-967a-4d7fa86185e7",
   "metadata": {},
   "outputs": [
    {
     "data": {
      "text/plain": [
       "35"
      ]
     },
     "execution_count": 2,
     "metadata": {},
     "output_type": "execute_result"
    }
   ],
   "source": [
    "addition(5,30)"
   ]
  },
  {
   "cell_type": "code",
   "execution_count": 3,
   "id": "df74407d-c415-4e58-b101-5aced9dd801a",
   "metadata": {},
   "outputs": [],
   "source": [
    "def multiply1(a,b):\n",
    "    \"\"\"\n",
    "    For b is positive only\n",
    "    \"\"\"    \n",
    "    if not b^0: # {b^0: =1 if b!0, =0 if b=0}\n",
    "        return 0\n",
    "    prod = multiply1(a,b>>1)\n",
    "    if a&1:\n",
    "        return addition(a,prod<<1)\n",
    "    else:\n",
    "        return prod<<1"
   ]
  },
  {
   "cell_type": "code",
   "execution_count": 4,
   "id": "c9898367-432b-422e-9703-d2c7c305b9a8",
   "metadata": {},
   "outputs": [
    {
     "data": {
      "text/plain": [
       "75"
      ]
     },
     "execution_count": 4,
     "metadata": {},
     "output_type": "execute_result"
    }
   ],
   "source": [
    "multiply1(5,15)"
   ]
  },
  {
   "cell_type": "code",
   "execution_count": 5,
   "id": "dcd92718-c494-44c0-84d9-2e1758efc9b4",
   "metadata": {},
   "outputs": [],
   "source": [
    "def division(a,b):\n",
    "    \"\"\"\n",
    "    for b > 1\n",
    "    returns quotient and remainder\n",
    "    \"\"\"\n",
    "    if not a!=0:\n",
    "        return (0, 0)\n",
    "    (q, r) = division(a>>1, b)\n",
    "    q, r = q<<1, r<<1\n",
    "    if a&1: r += 1\n",
    "    while r>b:\n",
    "        r, q = r-b, q+1\n",
    "    return (q,r)"
   ]
  },
  {
   "cell_type": "code",
   "execution_count": 6,
   "id": "3840100a-7609-4213-bf43-ea2f30b01b19",
   "metadata": {},
   "outputs": [
    {
     "data": {
      "text/plain": [
       "(13, 2)"
      ]
     },
     "execution_count": 6,
     "metadata": {},
     "output_type": "execute_result"
    }
   ],
   "source": [
    "division(80,6)"
   ]
  },
  {
   "cell_type": "code",
   "execution_count": 7,
   "id": "7b86e08c-a9a4-493b-bd58-439c6921aef7",
   "metadata": {},
   "outputs": [],
   "source": [
    "def modexp1(x,y,n):\n",
    "    if y==0: return 1\n",
    "    z = modexp(x,y>>1,n)\n",
    "    if not z&1:\n",
    "        return (z**2)%n\n",
    "    else:\n",
    "        return (x*z**2)%n"
   ]
  }
 ],
 "metadata": {
  "kernelspec": {
   "display_name": "Python 3 (ipykernel)",
   "language": "python",
   "name": "python3"
  },
  "language_info": {
   "codemirror_mode": {
    "name": "ipython",
    "version": 3
   },
   "file_extension": ".py",
   "mimetype": "text/x-python",
   "name": "python",
   "nbconvert_exporter": "python",
   "pygments_lexer": "ipython3",
   "version": "3.10.5"
  }
 },
 "nbformat": 4,
 "nbformat_minor": 5
}
