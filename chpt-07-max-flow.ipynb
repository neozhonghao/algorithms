{
 "cells": [
  {
   "cell_type": "code",
   "execution_count": 14,
   "id": "1c8b14f7-9c72-4509-96e2-591b072ec1ef",
   "metadata": {},
   "outputs": [],
   "source": [
    "from collections import deque\n",
    "\n",
    "class FordFulkerson:\n",
    "    def __init__(self, graph):\n",
    "        self.graph = graph  # Adjacency list representing the flow network\n",
    "        self.V = len(graph) # Number of vertices in the graph\n",
    "\n",
    "    def bfs(self, s, t, parent):\n",
    "        visited = [False] * self.V\n",
    "        queue = deque([s])\n",
    "        visited[s] = True\n",
    "\n",
    "        while queue:\n",
    "            u = queue.popleft()\n",
    "\n",
    "            for v in range(self.V):\n",
    "                if visited[v] is False and self.graph[u][v] > 0:\n",
    "                    queue.append(v)\n",
    "                    visited[v] = True\n",
    "                    parent[v] = u\n",
    "                    if v == t:\n",
    "                        return True\n",
    "        return False\n",
    "\n",
    "    def edmonds_karp(self, source, sink):\n",
    "        parent = [-1] * self.V\n",
    "        max_flow = 0\n",
    "\n",
    "        while self.bfs(source, sink, parent):\n",
    "            path_flow = float('Inf')\n",
    "            s = sink\n",
    "\n",
    "            while s != source:\n",
    "                path_flow = min(path_flow, self.graph[parent[s]][s])\n",
    "                s = parent[s]\n",
    "\n",
    "            max_flow += path_flow\n",
    "            v = sink\n",
    "\n",
    "            while v != source:\n",
    "                u = parent[v]\n",
    "                self.graph[u][v] -= path_flow\n",
    "                self.graph[v][u] += path_flow\n",
    "                v = parent[v]\n",
    "\n",
    "        return max_flow\n"
   ]
  },
  {
   "cell_type": "code",
   "execution_count": 16,
   "id": "e54fe89a-6c8a-40ea-b513-6e6fa5191c43",
   "metadata": {},
   "outputs": [
    {
     "name": "stdout",
     "output_type": "stream",
     "text": [
      "23\n"
     ]
    }
   ],
   "source": [
    "graph = [\n",
    "    [0, 16, 13, 0, 0, 0],\n",
    "    [0, 0, 10, 12, 0, 0],\n",
    "    [0, 4, 0, 0, 14, 0],\n",
    "    [0, 0, 9, 0, 0, 20],\n",
    "    [0, 0, 0, 7, 0, 4],\n",
    "    [0, 0, 0, 0, 0, 0]\n",
    "]\n",
    "\n",
    "ff = FordFulkerson(graph)\n",
    "source, sink = 0, 5\n",
    "max_flow = ff.edmonds_karp(source,sink)\n",
    "print(max_flow)"
   ]
  }
 ],
 "metadata": {
  "kernelspec": {
   "display_name": "Python 3 (ipykernel)",
   "language": "python",
   "name": "python3"
  },
  "language_info": {
   "codemirror_mode": {
    "name": "ipython",
    "version": 3
   },
   "file_extension": ".py",
   "mimetype": "text/x-python",
   "name": "python",
   "nbconvert_exporter": "python",
   "pygments_lexer": "ipython3",
   "version": "3.10.5"
  }
 },
 "nbformat": 4,
 "nbformat_minor": 5
}
