{
 "cells": [
  {
   "cell_type": "code",
   "execution_count": 1,
   "id": "51ced705-398f-4513-a6dd-8a050e97f530",
   "metadata": {},
   "outputs": [],
   "source": [
    "import numpy as np"
   ]
  },
  {
   "cell_type": "code",
   "execution_count": 2,
   "id": "d915c0ba-1e89-4724-b758-cba0f015cc36",
   "metadata": {},
   "outputs": [],
   "source": [
    "def fft(x, inverse=False):\n",
    "    n = len(x)\n",
    "    if n == 1: return x\n",
    "    \n",
    "    n2 = n>>1\n",
    "    even = fft(x[0::2])\n",
    "    odd = fft(x[1::2])\n",
    "    if inverse:\n",
    "        w = np.exp(-2j*np.pi*np.arange(n2)/n2)\n",
    "    else:\n",
    "        w = np.exp(2j*np.pi*np.arange(n2)/n2)\n",
    "    y_plus = even + w*odd\n",
    "    y_minus = even - w*odd\n",
    "    \n",
    "    y = np.zeros(n,np.complex128)\n",
    "    y[:n2] = y_plus\n",
    "    y[n2:] = y_minus\n",
    "\n",
    "    return y    "
   ]
  },
  {
   "cell_type": "code",
   "execution_count": 3,
   "id": "554e18d1-f924-450d-8436-aa41d29e89ed",
   "metadata": {},
   "outputs": [
    {
     "name": "stdout",
     "output_type": "stream",
     "text": [
      "f(x)= [ 3.6000000e+01+0.0000000e+00j  4.8985872e-16-4.8985872e-16j\n",
      "  0.0000000e+00-4.8985872e-16j -8.0000000e+00+8.0000000e+00j\n",
      " -4.0000000e+00+0.0000000e+00j -4.8985872e-16-4.8985872e-16j\n",
      " -8.0000000e+00+4.8985872e-16j -8.0000000e+00-8.0000000e+00j]\n"
     ]
    }
   ],
   "source": [
    "x = np.array([1.0,2.0,3.0,4.0,5.0,6.0,7.0,8.0])\n",
    "y = fft(x,False)\n",
    "print('f(x)= {}'.format(y))"
   ]
  },
  {
   "cell_type": "code",
   "execution_count": 4,
   "id": "50929651-6b18-47e1-9afe-bdaadeb9cc6a",
   "metadata": {},
   "outputs": [
    {
     "name": "stdout",
     "output_type": "stream",
     "text": [
      "f^-1(f(x))= [1.-1.14423775e-17j 2.+6.89018570e-16j 3.-1.14423775e-17j\n",
      " 4.+1.99159850e-16j 5.+1.14423775e-17j 6.-1.99159850e-16j\n",
      " 7.+1.14423775e-17j 8.-6.89018570e-16j]\n"
     ]
    }
   ],
   "source": [
    "x2 = fft(y, True)/len(x)\n",
    "print('f^-1(f(x))= {}'.format(x2))"
   ]
  }
 ],
 "metadata": {
  "kernelspec": {
   "display_name": "Python 3 (ipykernel)",
   "language": "python",
   "name": "python3"
  },
  "language_info": {
   "codemirror_mode": {
    "name": "ipython",
    "version": 3
   },
   "file_extension": ".py",
   "mimetype": "text/x-python",
   "name": "python",
   "nbconvert_exporter": "python",
   "pygments_lexer": "ipython3",
   "version": "3.10.5"
  }
 },
 "nbformat": 4,
 "nbformat_minor": 5
}
